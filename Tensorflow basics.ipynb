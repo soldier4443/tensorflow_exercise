{
 "cells": [
  {
   "cell_type": "code",
   "execution_count": 2,
   "metadata": {},
   "outputs": [],
   "source": [
    "# Import tensorflow library\n",
    "import tensorflow as tf"
   ]
  },
  {
   "cell_type": "code",
   "execution_count": 6,
   "metadata": {},
   "outputs": [
    {
     "name": "stdout",
     "output_type": "stream",
     "text": [
      "[3. 3. 3.]\n"
     ]
    }
   ],
   "source": [
    "# Starts with a session\n",
    "sess = tf.Session()\n",
    "\n",
    "# Build a calculation graph\n",
    "node1 = tf.constant([1.0, 1.0, 1.0])\n",
    "node2 = tf.constant([2.0, 2.0, 2.0])\n",
    "adder = tf.add(node1, node2)\n",
    "\n",
    "# Evaluate result : Running through the graph and run each nodes (operations).\n",
    "# It is important that the actual computation of the graph take place in here.\n",
    "result = adder.eval(session=sess)\n",
    "\n",
    "print(result)\n",
    "\n",
    "sess.close()"
   ]
  },
  {
   "cell_type": "code",
   "execution_count": 10,
   "metadata": {},
   "outputs": [
    {
     "name": "stdout",
     "output_type": "stream",
     "text": [
      "[6. 6. 6. 6.]\n"
     ]
    }
   ],
   "source": [
    "# Another simple example using with and overloading\n",
    "with tf.Session():\n",
    "    # Shape: shape of the tensor. in this case, each tensor has 4 items and 1 dimension.\n",
    "    node1 = tf.constant(1.0, shape=[4])\n",
    "    node2 = tf.constant(2.0, shape=[4])\n",
    "    node3 = tf.constant(3.0, shape=[4])\n",
    "    adder = node1 + node2 + node3\n",
    "    \n",
    "    print(adder.eval())"
   ]
  },
  {
   "cell_type": "code",
   "execution_count": 19,
   "metadata": {},
   "outputs": [
    {
     "name": "stdout",
     "output_type": "stream",
     "text": [
      "[1. 2. 3. 4. 5. 6.]\n",
      "[[2. 3. 4.]\n",
      " [5. 6. 7.]]\n"
     ]
    }
   ],
   "source": [
    "import numpy as np\n",
    "\n",
    "# Adding matrices is as simple as adding vectors\n",
    "with tf.Session():\n",
    "    node1 = tf.constant(1.0, shape=[2, 3])\n",
    "    \n",
    "    # np.arange make a serial data in range.\n",
    "    simple = np.arange(1.0, 7.0, dtype=np.float32)\n",
    "    print(simple)\n",
    "    \n",
    "    node2 = tf.constant(np.reshape(simple, (2, 3)))\n",
    "    adder = node1 + node2\n",
    "    \n",
    "    print(adder.eval())"
   ]
  },
  {
   "cell_type": "code",
   "execution_count": 21,
   "metadata": {},
   "outputs": [
    {
     "name": "stdout",
     "output_type": "stream",
     "text": [
      "Input:\n",
      "[[1. 0. 0. 1.]]\n",
      "Weights:\n",
      "[[ 1.4764901   1.9907105 ]\n",
      " [-0.5350998  -0.7286895 ]\n",
      " [-0.19299382  0.73151696]\n",
      " [ 0.9400458   0.3905921 ]]\n",
      "Output:\n",
      "[[2.4165359 2.3813026]]\n"
     ]
    }
   ],
   "source": [
    "import tensorflow as tf\n",
    "import numpy as np\n",
    "\n",
    "# Multiplcation of Matrices..\n",
    "with tf.Session():\n",
    "    input_features = tf.constant(np.reshape([1, 0, 0, 1], (1, 4)).astype(np.float32))\n",
    "    weights = tf.constant(np.random.randn(4, 2).astype(np.float32))\n",
    "    output = tf.matmul(input_features, weights)\n",
    "    print(\"Input:\")\n",
    "    print(input_features.eval())\n",
    "    print(\"Weights:\")\n",
    "    print(weights.eval())\n",
    "    print(\"Output:\")\n",
    "    print(output.eval())"
   ]
  },
  {
   "cell_type": "markdown",
   "metadata": {},
   "source": [
    "#### Use of tf.Variable, tf.assign"
   ]
  },
  {
   "cell_type": "code",
   "execution_count": 47,
   "metadata": {},
   "outputs": [
    {
     "name": "stdout",
     "output_type": "stream",
     "text": [
      "[[3.689779   7.236499  ]\n",
      " [2.6037264  0.54228306]]\n",
      "[[10.956362  8.680584]\n",
      " [10.206676  2.88077 ]]\n",
      "[[15.549495 11.088782]\n",
      " [18.862587  7.382964]]\n",
      "[[21.37453  16.685987]\n",
      " [25.577042 16.811672]]\n",
      "[[24.372948 21.60711 ]\n",
      " [28.95485  25.907555]]\n",
      "[[32.785454 24.338793]\n",
      " [37.527077 32.59237 ]]\n",
      "[[35.436085 26.702133]\n",
      " [42.539444 33.23772 ]]\n",
      "[[42.558846 28.304388]\n",
      " [44.73082  40.974537]]\n",
      "[[43.382507 28.347569]\n",
      " [50.721615 42.953518]]\n",
      "[[43.441513 33.352676]\n",
      " [58.937195 49.514038]]\n"
     ]
    }
   ],
   "source": [
    "import tensorflow as tf\n",
    "import numpy as np\n",
    "\n",
    "with tf.Session() as sess:\n",
    "    total = tf.Variable(tf.zeros([2, 2]))\n",
    "    random_values = tf.Variable(tf.random_uniform([2, 2], maxval=10))\n",
    "    tf.global_variables_initializer().run()\n",
    "    \n",
    "    update_total = tf.assign(total, tf.add(total, random_values))\n",
    "    update_random_values = tf.assign(random_values, tf.random_uniform([2, 2], maxval=10))\n",
    "    \n",
    "    for i in range(10):\n",
    "        sess.run(update_total)\n",
    "        sess.run(update_random_values)\n",
    "        print(total.eval())"
   ]
  },
  {
   "cell_type": "code",
   "execution_count": null,
   "metadata": {},
   "outputs": [],
   "source": []
  }
 ],
 "metadata": {
  "kernelspec": {
   "display_name": "Python 2",
   "language": "python",
   "name": "python2"
  },
  "language_info": {
   "codemirror_mode": {
    "name": "ipython",
    "version": 2
   },
   "file_extension": ".py",
   "mimetype": "text/x-python",
   "name": "python",
   "nbconvert_exporter": "python",
   "pygments_lexer": "ipython2",
   "version": "2.7.12"
  }
 },
 "nbformat": 4,
 "nbformat_minor": 2
}
